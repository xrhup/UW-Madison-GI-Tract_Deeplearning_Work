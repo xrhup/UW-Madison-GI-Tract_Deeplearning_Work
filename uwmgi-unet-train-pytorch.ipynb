{
 "cells": [
  {
   "cell_type": "markdown",
   "id": "8d917b08",
   "metadata": {
    "papermill": {
     "duration": 0.025987,
     "end_time": "2024-12-19T07:35:47.430666",
     "exception": false,
     "start_time": "2024-12-19T07:35:47.404679",
     "status": "completed"
    },
    "tags": []
   },
   "source": [
    "# [UW-Madison GI Tract Image Segmentation](https://www.kaggle.com/competitions/uw-madison-gi-tract-image-segmentation/)\n",
    "> 在医学扫描中追踪健康器官以改善癌症治疗\n"
   ]
  },
  {
   "cell_type": "markdown",
   "id": "aa4b6055",
   "metadata": {
    "papermill": {
     "duration": 0.024688,
     "end_time": "2024-12-19T07:35:47.480463",
     "exception": false,
     "start_time": "2024-12-19T07:35:47.455775",
     "status": "completed"
    },
    "tags": []
   },
   "source": [
    "# 实验方法\n",
    "* 在本笔记本中，我将演示如何使用PyTorch训练**Unet**模型。\n",
    "* 对于掩码，我将使用预先计算的掩码从[掩码数据集](https://www.kaggle.com/datasets/awsaf49/uwmgi-mask-dataset)。\n",
    "* 由于**胃**，**大肠**和**小肠**类之间有重叠，这是一个**多标签分割**任务，所以最终激活函数使用的是‘ sigmoid ’而不是‘ softmax ’。\n",
    "* 对于数据分割，我将使用**StratifiedGroupFold**来避免由于“case”导致的数据泄漏，并分层“空”和“非空”掩码案例。"
   ]
  },
  {
   "cell_type": "markdown",
   "id": "29002662",
   "metadata": {
    "papermill": {
     "duration": 0.023468,
     "end_time": "2024-12-19T07:35:47.528026",
     "exception": false,
     "start_time": "2024-12-19T07:35:47.504558",
     "status": "completed"
    },
    "tags": []
   },
   "source": [
    "# 笔记本\n",
    "📌 **UNet模型**:\n",
    "* Train: [UWMGI: Unet [Train] [PyTorch]](https://www.kaggle.com/code/xuruihao/uwmgi-unet-train-pytorch/)\n",
    "* Infer: [UWMGI: Unet [Infer] [PyTorch]](https://www.kaggle.com/code/xuruihao/uwmgi-unet-infer-pytorch/)\n",
    "\n",
    "📌 **Dataset数据集**:\n",
    "* Data:[UWMGI: Mask Data](https://www.kaggle.com/datasets/awsaf49/uwmgi-mask-data)\n",
    "* Dataset: [UWMGI: Mask Dataset](https://www.kaggle.com/datasets/awsaf49/uwmgi-mask-dataset)"
   ]
  },
  {
   "cell_type": "markdown",
   "id": "b4c7c7c5",
   "metadata": {
    "papermill": {
     "duration": 0.025005,
     "end_time": "2024-12-19T07:35:47.576992",
     "exception": false,
     "start_time": "2024-12-19T07:35:47.551987",
     "status": "completed"
    },
    "tags": []
   },
   "source": [
    "# 安装库"
   ]
  },
  {
   "cell_type": "code",
   "execution_count": null,
   "id": "994c8e47",
   "metadata": {
    "execution": {
     "iopub.execute_input": "2024-12-19T07:35:47.633951Z",
     "iopub.status.busy": "2024-12-19T07:35:47.633484Z",
     "iopub.status.idle": "2024-12-19T07:36:30.658175Z",
     "shell.execute_reply": "2024-12-19T07:36:30.658580Z",
     "shell.execute_reply.started": "2022-04-24T22:33:56.942006Z"
    },
    "papermill": {
     "duration": 43.057059,
     "end_time": "2024-12-19T07:36:30.658843",
     "exception": false,
     "start_time": "2024-12-19T07:35:47.601784",
     "status": "completed"
    },
    "tags": []
   },
   "outputs": [],
   "source": [
    "!pip install -q segmentation_models_pytorch\n",
    "!pip install -qU wandb\n",
    "!pip install -q scikit-learn==1.0"
   ]
  },
  {
   "cell_type": "markdown",
   "id": "1e323c32",
   "metadata": {
    "papermill": {
     "duration": 0.024446,
     "end_time": "2024-12-19T07:36:30.708732",
     "exception": false,
     "start_time": "2024-12-19T07:36:30.684286",
     "status": "completed"
    },
    "tags": []
   },
   "source": [
    "# 导入库"
   ]
  },
  {
   "cell_type": "code",
   "execution_count": 2,
   "id": "80c915ca",
   "metadata": {
    "execution": {
     "iopub.execute_input": "2024-12-19T07:36:30.765275Z",
     "iopub.status.busy": "2024-12-19T07:36:30.764388Z",
     "iopub.status.idle": "2024-12-19T07:36:30.803133Z",
     "shell.execute_reply": "2024-12-19T07:36:30.802682Z",
     "shell.execute_reply.started": "2022-04-24T22:34:36.117594Z"
    },
    "papermill": {
     "duration": 0.069453,
     "end_time": "2024-12-19T07:36:30.803260",
     "exception": false,
     "start_time": "2024-12-19T07:36:30.733807",
     "status": "completed"
    },
    "tags": []
   },
   "outputs": [],
   "source": [
    "%load_ext autoreload\n",
    "%autoreload 2"
   ]
  },
  {
   "cell_type": "code",
   "execution_count": 3,
   "id": "4a62c1db",
   "metadata": {
    "_kg_hide-input": false,
    "execution": {
     "iopub.execute_input": "2024-12-19T07:36:30.860265Z",
     "iopub.status.busy": "2024-12-19T07:36:30.859429Z",
     "iopub.status.idle": "2024-12-19T07:36:38.936931Z",
     "shell.execute_reply": "2024-12-19T07:36:38.936466Z",
     "shell.execute_reply.started": "2022-04-24T22:34:36.166397Z"
    },
    "papermill": {
     "duration": 8.108049,
     "end_time": "2024-12-19T07:36:38.937065",
     "exception": false,
     "start_time": "2024-12-19T07:36:30.829016",
     "status": "completed"
    },
    "tags": []
   },
   "outputs": [],
   "source": [
    "import numpy as np\n",
    "import pandas as pd\n",
    "pd.options.plotting.backend = \"plotly\"\n",
    "import random\n",
    "from glob import glob\n",
    "import os, shutil\n",
    "from tqdm import tqdm\n",
    "tqdm.pandas()\n",
    "import time\n",
    "import copy\n",
    "import joblib\n",
    "from collections import defaultdict\n",
    "import gc\n",
    "from IPython import display as ipd\n",
    "\n",
    "# visualization\n",
    "import cv2\n",
    "import matplotlib.pyplot as plt\n",
    "from matplotlib.patches import Rectangle\n",
    "\n",
    "# Sklearn\n",
    "from sklearn.model_selection import StratifiedKFold, KFold, StratifiedGroupKFold\n",
    "\n",
    "# PyTorch \n",
    "import torch\n",
    "import torch.nn as nn\n",
    "import torch.optim as optim\n",
    "from torch.optim import lr_scheduler\n",
    "from torch.utils.data import Dataset, DataLoader\n",
    "from torch.cuda import amp\n",
    "\n",
    "import timm\n",
    "\n",
    "# Albumentations for augmentations\n",
    "import albumentations as A\n",
    "from albumentations.pytorch import ToTensorV2\n",
    "\n",
    "import rasterio\n",
    "from joblib import Parallel, delayed\n",
    "\n",
    "# For colored terminal text\n",
    "from colorama import Fore, Back, Style\n",
    "c_  = Fore.GREEN\n",
    "sr_ = Style.RESET_ALL\n",
    "\n",
    "import warnings\n",
    "warnings.filterwarnings(\"ignore\")\n",
    "\n",
    "# For descriptive error messages\n",
    "os.environ['CUDA_LAUNCH_BLOCKING'] = \"1\""
   ]
  },
  {
   "cell_type": "markdown",
   "id": "6dbedfc2",
   "metadata": {
    "papermill": {
     "duration": 0.024781,
     "end_time": "2024-12-19T07:36:38.987312",
     "exception": false,
     "start_time": "2024-12-19T07:36:38.962531",
     "status": "completed"
    },
    "tags": []
   },
   "source": [
    "# WandB库\n",
    "\n",
    "权重与偏差（W&B）是MLOps跟踪实验的平台。我们可以使用它通过实验跟踪、数据集版本控制和模型管理来更快地构建更好的模型。**W&B**的一些很酷的功能：\n",
    "* 跟踪，比较和可视化ML实验\n",
    "* 获得实时指标，终端日志和系统统计流到集中式仪表板。\n",
    "* 解释你的模型是如何工作的，展示模型版本如何改进的图表，讨论bug，并演示朝着里程碑的进展。"
   ]
  },
  {
   "cell_type": "code",
   "execution_count": null,
   "id": "676d1949",
   "metadata": {
    "execution": {
     "iopub.execute_input": "2024-12-19T07:36:39.042616Z",
     "iopub.status.busy": "2024-12-19T07:36:39.040625Z",
     "iopub.status.idle": "2024-12-19T07:36:39.432578Z",
     "shell.execute_reply": "2024-12-19T07:36:39.432024Z",
     "shell.execute_reply.started": "2022-04-24T22:34:44.730259Z"
    },
    "papermill": {
     "duration": 0.419962,
     "end_time": "2024-12-19T07:36:39.432815",
     "exception": true,
     "start_time": "2024-12-19T07:36:39.012853",
     "status": "failed"
    },
    "tags": []
   },
   "outputs": [],
   "source": [
    "import wandb\n",
    "\n",
    "try:\n",
    "    from kaggle_secrets import UserSecretsClient\n",
    "    user_secrets = UserSecretsClient()\n",
    "    api_key = user_secrets.get_secret(\"WANDB\")\n",
    "    wandb.login(key=api_key)\n",
    "    anonymous = None\n",
    "except:\n",
    "    anonymous = \"must\"\n",
    "    print('To use your W&B account,\\nGo to Add-ons -> Secrets and provide your W&B access token. Use the Label name as WANDB. \\nGet your W&B access token from here: https://wandb.ai/authorize')"
   ]
  },
  {
   "cell_type": "markdown",
   "id": "fbd1c05d",
   "metadata": {
    "papermill": {
     "duration": null,
     "end_time": null,
     "exception": null,
     "start_time": null,
     "status": "pending"
    },
    "tags": []
   },
   "source": [
    "# 配置"
   ]
  },
  {
   "cell_type": "code",
   "execution_count": null,
   "id": "b628c729",
   "metadata": {
    "execution": {
     "iopub.execute_input": "2022-04-24T22:34:46.959299Z",
     "iopub.status.busy": "2022-04-24T22:34:46.958869Z",
     "iopub.status.idle": "2022-04-24T22:34:47.077638Z",
     "shell.execute_reply": "2022-04-24T22:34:47.076587Z",
     "shell.execute_reply.started": "2022-04-24T22:34:46.959258Z"
    },
    "papermill": {
     "duration": null,
     "end_time": null,
     "exception": null,
     "start_time": null,
     "status": "pending"
    },
    "tags": []
   },
   "outputs": [],
   "source": [
    "class CFG:\n",
    "    seed          = 101\n",
    "    debug         = False # set debug=False for Full Training\n",
    "    exp_name      = 'Baselinev2'\n",
    "    comment       = 'unet-efficientnet_b1-224x224-aug2-split2'\n",
    "    model_name    = 'Unet'\n",
    "    backbone      = 'efficientnet-b1'\n",
    "    train_bs      = 128\n",
    "    valid_bs      = train_bs*2\n",
    "    img_size      = [224, 224]\n",
    "    epochs        = 15\n",
    "    lr            = 2e-3\n",
    "    scheduler     = 'CosineAnnealingLR'\n",
    "    min_lr        = 1e-6\n",
    "    T_max         = int(30000/train_bs*epochs)+50\n",
    "    T_0           = 25\n",
    "    warmup_epochs = 0\n",
    "    wd            = 1e-6\n",
    "    n_accumulate  = max(1, 32//train_bs)\n",
    "    n_fold        = 5\n",
    "    num_classes   = 3\n",
    "    device        = torch.device(\"cuda:0\" if torch.cuda.is_available() else \"cpu\")\n"
   ]
  },
  {
   "cell_type": "markdown",
   "id": "6f5aa303",
   "metadata": {
    "papermill": {
     "duration": null,
     "end_time": null,
     "exception": null,
     "start_time": null,
     "status": "pending"
    },
    "tags": []
   },
   "source": [
    "# 可重复性"
   ]
  },
  {
   "cell_type": "code",
   "execution_count": null,
   "id": "bfd4d373",
   "metadata": {
    "execution": {
     "iopub.execute_input": "2022-04-24T22:34:47.079835Z",
     "iopub.status.busy": "2022-04-24T22:34:47.079413Z",
     "iopub.status.idle": "2022-04-24T22:34:47.150863Z",
     "shell.execute_reply": "2022-04-24T22:34:47.150048Z",
     "shell.execute_reply.started": "2022-04-24T22:34:47.079797Z"
    },
    "papermill": {
     "duration": null,
     "end_time": null,
     "exception": null,
     "start_time": null,
     "status": "pending"
    },
    "tags": []
   },
   "outputs": [],
   "source": [
    "def set_seed(seed = 42):\n",
    "    '''Sets the seed of the entire notebook so results are the same every time we run.\n",
    "    This is for REPRODUCIBILITY.'''\n",
    "    np.random.seed(seed)\n",
    "    random.seed(seed)\n",
    "    torch.manual_seed(seed)\n",
    "    torch.cuda.manual_seed(seed)\n",
    "    # When running on the CuDNN backend, two further options must be set\n",
    "    torch.backends.cudnn.deterministic = True\n",
    "    torch.backends.cudnn.benchmark = False\n",
    "    # Set a fixed value for the hash seed\n",
    "    os.environ['PYTHONHASHSEED'] = str(seed)\n",
    "    print('> SEEDING DONE')\n",
    "    \n",
    "set_seed(CFG.seed)"
   ]
  },
  {
   "cell_type": "markdown",
   "id": "720c07c3",
   "metadata": {
    "papermill": {
     "duration": null,
     "end_time": null,
     "exception": null,
     "start_time": null,
     "status": "pending"
    },
    "tags": []
   },
   "source": [
    "# 源数据\n",
    "\n",
    "* 文件\n",
    "    * train.csv:所有训练对象的id和掩码。\n",
    "    * sample_submission.csv:正确格式的样本提交文件。\n",
    "    * train:一个\"case/day\"文件夹的文件夹，每个文件夹包含给定日期的特定案例的切片图像。\n",
    "\n",
    ">请注意，映像文件名包含4个数字(例如：“276_276_1.63_1.63.png”)。这四个数字是切片高度/宽度（以像素为单位的整数）和高度/宽度像素间距（以毫米为单位的浮点数）。前两个定义了幻灯片的分辨率。最后两个记录每个像素的物理大小。\n",
    "\n",
    "* 列\n",
    "    * id：对象的唯一标识符\n",
    "    * class：对象的预测类\n",
    "    * EncodedPixels：标识对象的RLE编码像素"
   ]
  },
  {
   "cell_type": "code",
   "execution_count": null,
   "id": "1fafdc74",
   "metadata": {
    "execution": {
     "iopub.execute_input": "2022-04-24T22:34:47.15301Z",
     "iopub.status.busy": "2022-04-24T22:34:47.152561Z",
     "iopub.status.idle": "2022-04-24T22:34:47.218458Z",
     "shell.execute_reply": "2022-04-24T22:34:47.21767Z",
     "shell.execute_reply.started": "2022-04-24T22:34:47.152969Z"
    },
    "papermill": {
     "duration": null,
     "end_time": null,
     "exception": null,
     "start_time": null,
     "status": "pending"
    },
    "tags": []
   },
   "outputs": [],
   "source": [
    "BASE_PATH  = '/kaggle/input/uw-madison-gi-tract-image-segmentation'"
   ]
  },
  {
   "cell_type": "code",
   "execution_count": null,
   "id": "f1e9cf44",
   "metadata": {
    "execution": {
     "iopub.execute_input": "2022-04-24T22:35:40.191024Z",
     "iopub.status.busy": "2022-04-24T22:35:40.190773Z",
     "iopub.status.idle": "2022-04-24T22:35:42.426926Z",
     "shell.execute_reply": "2022-04-24T22:35:42.426216Z",
     "shell.execute_reply.started": "2022-04-24T22:35:40.190996Z"
    },
    "papermill": {
     "duration": null,
     "end_time": null,
     "exception": null,
     "start_time": null,
     "status": "pending"
    },
    "tags": []
   },
   "outputs": [],
   "source": [
    "df = pd.read_csv('../input/uwmgi-mask-dataset/train.csv')\n",
    "df['segmentation'] = df.segmentation.fillna('')\n",
    "df['rle_len'] = df.segmentation.map(len) # length of each rle mask\n",
    "df['mask_path'] = df.mask_path.str.replace('/png/','/np').str.replace('.png','.npy')\n",
    "\n",
    "df2 = df.groupby(['id'])['segmentation'].agg(list).to_frame().reset_index() # rle list of each id\n",
    "df2 = df2.merge(df.groupby(['id'])['rle_len'].agg(sum).to_frame().reset_index()) # total length of all rles of each id\n",
    "\n",
    "df = df.drop(columns=['segmentation', 'class', 'rle_len'])\n",
    "df = df.groupby(['id']).head(1).reset_index(drop=True)\n",
    "df = df.merge(df2, on=['id'])\n",
    "df['empty'] = (df.rle_len==0) # empty masks\n",
    "df.head()"
   ]
  },
  {
   "cell_type": "markdown",
   "id": "ee887b9c",
   "metadata": {
    "papermill": {
     "duration": null,
     "end_time": null,
     "exception": null,
     "start_time": null,
     "status": "pending"
    },
    "tags": []
   },
   "source": [
    "## 类分布"
   ]
  },
  {
   "cell_type": "code",
   "execution_count": null,
   "id": "903bed50",
   "metadata": {
    "execution": {
     "iopub.execute_input": "2022-04-24T22:35:10.151276Z",
     "iopub.status.busy": "2022-04-24T22:35:10.151002Z",
     "iopub.status.idle": "2022-04-24T22:35:12.980352Z",
     "shell.execute_reply": "2022-04-24T22:35:12.979668Z",
     "shell.execute_reply.started": "2022-04-24T22:35:10.151245Z"
    },
    "papermill": {
     "duration": null,
     "end_time": null,
     "exception": null,
     "start_time": null,
     "status": "pending"
    },
    "tags": []
   },
   "outputs": [],
   "source": [
    "df['empty'].value_counts().plot.bar()"
   ]
  },
  {
   "cell_type": "markdown",
   "id": "5d73e498",
   "metadata": {
    "papermill": {
     "duration": null,
     "end_time": null,
     "exception": null,
     "start_time": null,
     "status": "pending"
    },
    "tags": []
   },
   "source": [
    "# 程序"
   ]
  },
  {
   "cell_type": "markdown",
   "id": "de6574c0",
   "metadata": {
    "papermill": {
     "duration": null,
     "end_time": null,
     "exception": null,
     "start_time": null,
     "status": "pending"
    },
    "tags": []
   },
   "source": [
    "## 掩码"
   ]
  },
  {
   "cell_type": "code",
   "execution_count": null,
   "id": "1f570f70",
   "metadata": {
    "execution": {
     "iopub.execute_input": "2022-04-24T22:36:09.46213Z",
     "iopub.status.busy": "2022-04-24T22:36:09.461599Z",
     "iopub.status.idle": "2022-04-24T22:36:09.552237Z",
     "shell.execute_reply": "2022-04-24T22:36:09.551451Z",
     "shell.execute_reply.started": "2022-04-24T22:36:09.462093Z"
    },
    "papermill": {
     "duration": null,
     "end_time": null,
     "exception": null,
     "start_time": null,
     "status": "pending"
    },
    "tags": []
   },
   "outputs": [],
   "source": [
    "def id2mask(id_):\n",
    "    idf = df[df['id']==id_]\n",
    "    wh = idf[['height','width']].iloc[0]\n",
    "    shape = (wh.height, wh.width, 3)\n",
    "    mask = np.zeros(shape, dtype=np.uint8)\n",
    "    for i, class_ in enumerate(['large_bowel', 'small_bowel', 'stomach']):\n",
    "        cdf = idf[idf['class']==class_]\n",
    "        rle = cdf.segmentation.squeeze()\n",
    "        if len(cdf) and not pd.isna(rle):\n",
    "            mask[..., i] = rle_decode(rle, shape[:2])\n",
    "    return mask\n",
    "\n",
    "def rgb2gray(mask):\n",
    "    pad_mask = np.pad(mask, pad_width=[(0,0),(0,0),(1,0)])\n",
    "    gray_mask = pad_mask.argmax(-1)\n",
    "    return gray_mask\n",
    "\n",
    "def gray2rgb(mask):\n",
    "    rgb_mask = tf.keras.utils.to_categorical(mask, num_classes=4)\n",
    "    return rgb_mask[..., 1:].astype(mask.dtype)"
   ]
  },
  {
   "cell_type": "markdown",
   "id": "1d9d1eed",
   "metadata": {
    "papermill": {
     "duration": null,
     "end_time": null,
     "exception": null,
     "start_time": null,
     "status": "pending"
    },
    "tags": []
   },
   "source": [
    "## Image"
   ]
  },
  {
   "cell_type": "code",
   "execution_count": null,
   "id": "0c8c4a92",
   "metadata": {
    "execution": {
     "iopub.execute_input": "2022-04-24T22:51:08.85482Z",
     "iopub.status.busy": "2022-04-24T22:51:08.854197Z",
     "iopub.status.idle": "2022-04-24T22:51:08.976816Z",
     "shell.execute_reply": "2022-04-24T22:51:08.975877Z",
     "shell.execute_reply.started": "2022-04-24T22:51:08.85477Z"
    },
    "papermill": {
     "duration": null,
     "end_time": null,
     "exception": null,
     "start_time": null,
     "status": "pending"
    },
    "tags": []
   },
   "outputs": [],
   "source": [
    "def load_img(path):\n",
    "    img = cv2.imread(path, cv2.IMREAD_UNCHANGED)\n",
    "    img = np.tile(img[...,None], [1, 1, 3]) # gray to rgb\n",
    "    img = img.astype('float32') # original is uint16\n",
    "    mx = np.max(img)\n",
    "    if mx:\n",
    "        img/=mx # scale image to [0, 1]\n",
    "    return img\n",
    "\n",
    "def load_msk(path):\n",
    "    msk = np.load(path)\n",
    "    msk = msk.astype('float32')\n",
    "    msk/=255.0\n",
    "    return msk\n",
    "    \n",
    "\n",
    "def show_img(img, mask=None):\n",
    "    clahe = cv2.createCLAHE(clipLimit=2.0, tileGridSize=(8,8))\n",
    "#     img = clahe.apply(img)\n",
    "#     plt.figure(figsize=(10,10))\n",
    "    plt.imshow(img, cmap='bone')\n",
    "    \n",
    "    if mask is not None:\n",
    "        # plt.imshow(np.ma.masked_where(mask!=1, mask), alpha=0.5, cmap='autumn')\n",
    "        plt.imshow(mask, alpha=0.5)\n",
    "        handles = [Rectangle((0,0),1,1, color=_c) for _c in [(0.667,0.0,0.0), (0.0,0.667,0.0), (0.0,0.0,0.667)]]\n",
    "        labels = [\"Large Bowel\", \"Small Bowel\", \"Stomach\"]\n",
    "        plt.legend(handles,labels)\n",
    "    plt.axis('off')"
   ]
  },
  {
   "cell_type": "markdown",
   "id": "2efb685c",
   "metadata": {
    "papermill": {
     "duration": null,
     "end_time": null,
     "exception": null,
     "start_time": null,
     "status": "pending"
    },
    "tags": []
   },
   "source": [
    "## RLE"
   ]
  },
  {
   "cell_type": "code",
   "execution_count": null,
   "id": "dd16be46",
   "metadata": {
    "execution": {
     "iopub.execute_input": "2022-04-24T22:49:14.324761Z",
     "iopub.status.busy": "2022-04-24T22:49:14.32299Z",
     "iopub.status.idle": "2022-04-24T22:49:14.441434Z",
     "shell.execute_reply": "2022-04-24T22:49:14.440411Z",
     "shell.execute_reply.started": "2022-04-24T22:49:14.324713Z"
    },
    "papermill": {
     "duration": null,
     "end_time": null,
     "exception": null,
     "start_time": null,
     "status": "pending"
    },
    "tags": []
   },
   "outputs": [],
   "source": [
    "# ref: https://www.kaggle.com/paulorzp/run-length-encode-and-decode\n",
    "def rle_decode(mask_rle, shape):\n",
    "    '''\n",
    "    mask_rle: run-length as string formated (start length)\n",
    "    shape: (height,width) of array to return \n",
    "    Returns numpy array, 1 - mask, 0 - background\n",
    "\n",
    "    '''\n",
    "    s = mask_rle.split()\n",
    "    starts, lengths = [np.asarray(x, dtype=int) for x in (s[0:][::2], s[1:][::2])]\n",
    "    starts -= 1\n",
    "    ends = starts + lengths\n",
    "    img = np.zeros(shape[0]*shape[1], dtype=np.uint8)\n",
    "    for lo, hi in zip(starts, ends):\n",
    "        img[lo:hi] = 1\n",
    "    return img.reshape(shape)  # Needed to align to RLE direction\n",
    "\n",
    "\n",
    "# ref.: https://www.kaggle.com/stainsby/fast-tested-rle\n",
    "def rle_encode(img):\n",
    "    '''\n",
    "    img: numpy array, 1 - mask, 0 - background\n",
    "    Returns run length as string formated\n",
    "    '''\n",
    "    pixels = img.flatten()\n",
    "    pixels = np.concatenate([[0], pixels, [0]])\n",
    "    runs = np.where(pixels[1:] != pixels[:-1])[0] + 1\n",
    "    runs[1::2] -= runs[::2]\n",
    "    return ' '.join(str(x) for x in runs)"
   ]
  },
  {
   "cell_type": "markdown",
   "id": "4a15af3a",
   "metadata": {
    "papermill": {
     "duration": null,
     "end_time": null,
     "exception": null,
     "start_time": null,
     "status": "pending"
    },
    "tags": []
   },
   "source": [
    "# 创建Folds"
   ]
  },
  {
   "cell_type": "code",
   "execution_count": null,
   "id": "5a844c94",
   "metadata": {
    "execution": {
     "iopub.execute_input": "2022-04-24T22:49:14.908772Z",
     "iopub.status.busy": "2022-04-24T22:49:14.908155Z",
     "iopub.status.idle": "2022-04-24T22:49:15.269885Z",
     "shell.execute_reply": "2022-04-24T22:49:15.269176Z",
     "shell.execute_reply.started": "2022-04-24T22:49:14.908729Z"
    },
    "papermill": {
     "duration": null,
     "end_time": null,
     "exception": null,
     "start_time": null,
     "status": "pending"
    },
    "tags": []
   },
   "outputs": [],
   "source": [
    "skf = StratifiedGroupKFold(n_splits=CFG.n_fold, shuffle=True, random_state=CFG.seed)\n",
    "for fold, (train_idx, val_idx) in enumerate(skf.split(df, df['empty'], groups = df[\"case\"])):\n",
    "    df.loc[val_idx, 'fold'] = fold\n",
    "display(df.groupby(['fold','empty'])['id'].count())"
   ]
  },
  {
   "cell_type": "markdown",
   "id": "860c7879",
   "metadata": {
    "papermill": {
     "duration": null,
     "end_time": null,
     "exception": null,
     "start_time": null,
     "status": "pending"
    },
    "tags": []
   },
   "source": [
    "# 数据集"
   ]
  },
  {
   "cell_type": "code",
   "execution_count": null,
   "id": "e2a30e5f",
   "metadata": {
    "execution": {
     "iopub.execute_input": "2022-04-24T22:49:15.621486Z",
     "iopub.status.busy": "2022-04-24T22:49:15.621044Z",
     "iopub.status.idle": "2022-04-24T22:49:15.705135Z",
     "shell.execute_reply": "2022-04-24T22:49:15.704126Z",
     "shell.execute_reply.started": "2022-04-24T22:49:15.621446Z"
    },
    "papermill": {
     "duration": null,
     "end_time": null,
     "exception": null,
     "start_time": null,
     "status": "pending"
    },
    "tags": []
   },
   "outputs": [],
   "source": [
    "class BuildDataset(torch.utils.data.Dataset):\n",
    "    def __init__(self, df, label=True, transforms=None):\n",
    "        self.df         = df\n",
    "        self.label      = label\n",
    "        self.img_paths  = df['image_path'].tolist()\n",
    "        self.msk_paths  = df['mask_path'].tolist()\n",
    "        self.transforms = transforms\n",
    "        \n",
    "    def __len__(self):\n",
    "        return len(self.df)\n",
    "    \n",
    "    def __getitem__(self, index):\n",
    "        img_path  = self.img_paths[index]\n",
    "        img = []\n",
    "        img = load_img(img_path)\n",
    "        \n",
    "        if self.label:\n",
    "            msk_path = self.msk_paths[index]\n",
    "            msk = load_msk(msk_path)\n",
    "            if self.transforms:\n",
    "                data = self.transforms(image=img, mask=msk)\n",
    "                img  = data['image']\n",
    "                msk  = data['mask']\n",
    "            img = np.transpose(img, (2, 0, 1))\n",
    "            msk = np.transpose(msk, (2, 0, 1))\n",
    "            return torch.tensor(img), torch.tensor(msk)\n",
    "        else:\n",
    "            if self.transforms:\n",
    "                data = self.transforms(image=img)\n",
    "                img  = data['image']\n",
    "            img = np.transpose(img, (2, 0, 1))\n",
    "            return torch.tensor(img)"
   ]
  },
  {
   "cell_type": "markdown",
   "id": "5a760b8e",
   "metadata": {
    "papermill": {
     "duration": null,
     "end_time": null,
     "exception": null,
     "start_time": null,
     "status": "pending"
    },
    "tags": []
   },
   "source": [
    "# 数据增强"
   ]
  },
  {
   "cell_type": "code",
   "execution_count": null,
   "id": "bea0b5b2",
   "metadata": {
    "_kg_hide-output": true,
    "execution": {
     "iopub.execute_input": "2022-04-24T22:49:16.413737Z",
     "iopub.status.busy": "2022-04-24T22:49:16.413194Z",
     "iopub.status.idle": "2022-04-24T22:49:16.496124Z",
     "shell.execute_reply": "2022-04-24T22:49:16.495227Z",
     "shell.execute_reply.started": "2022-04-24T22:49:16.413696Z"
    },
    "papermill": {
     "duration": null,
     "end_time": null,
     "exception": null,
     "start_time": null,
     "status": "pending"
    },
    "tags": []
   },
   "outputs": [],
   "source": [
    "data_transforms = {\n",
    "    \"train\": A.Compose([\n",
    "        A.Resize(*CFG.img_size, interpolation=cv2.INTER_NEAREST),\n",
    "        A.HorizontalFlip(p=0.5),\n",
    "#         A.VerticalFlip(p=0.5),\n",
    "        A.ShiftScaleRotate(shift_limit=0.0625, scale_limit=0.05, rotate_limit=10, p=0.5),\n",
    "        A.OneOf([\n",
    "            A.GridDistortion(num_steps=5, distort_limit=0.05, p=1.0),\n",
    "# #             A.OpticalDistortion(distort_limit=0.05, shift_limit=0.05, p=1.0),\n",
    "            A.ElasticTransform(alpha=1, sigma=50, alpha_affine=50, p=1.0)\n",
    "        ], p=0.25),\n",
    "        A.CoarseDropout(max_holes=8, max_height=CFG.img_size[0]//20, max_width=CFG.img_size[1]//20,\n",
    "                         min_holes=5, fill_value=0, mask_fill_value=0, p=0.5),\n",
    "        ], p=1.0),\n",
    "    \n",
    "    \"valid\": A.Compose([\n",
    "        A.Resize(*CFG.img_size, interpolation=cv2.INTER_NEAREST),\n",
    "        ], p=1.0)\n",
    "}"
   ]
  },
  {
   "cell_type": "markdown",
   "id": "469ad7be",
   "metadata": {
    "papermill": {
     "duration": null,
     "end_time": null,
     "exception": null,
     "start_time": null,
     "status": "pending"
    },
    "tags": []
   },
   "source": [
    "# 数据加载器"
   ]
  },
  {
   "cell_type": "code",
   "execution_count": null,
   "id": "8617e40e",
   "metadata": {
    "execution": {
     "iopub.execute_input": "2022-04-24T22:50:05.173181Z",
     "iopub.status.busy": "2022-04-24T22:50:05.172595Z",
     "iopub.status.idle": "2022-04-24T22:50:05.266151Z",
     "shell.execute_reply": "2022-04-24T22:50:05.265125Z",
     "shell.execute_reply.started": "2022-04-24T22:50:05.173145Z"
    },
    "papermill": {
     "duration": null,
     "end_time": null,
     "exception": null,
     "start_time": null,
     "status": "pending"
    },
    "tags": []
   },
   "outputs": [],
   "source": [
    "def prepare_loaders(fold, debug=False):\n",
    "    train_df = df.query(\"fold!=@fold\").reset_index(drop=True)\n",
    "    valid_df = df.query(\"fold==@fold\").reset_index(drop=True)\n",
    "    if debug:\n",
    "        train_df = train_df.head(32*5).query(\"empty==0\")\n",
    "        valid_df = valid_df.head(32*3).query(\"empty==0\")\n",
    "    train_dataset = BuildDataset(train_df, transforms=data_transforms['train'])\n",
    "    valid_dataset = BuildDataset(valid_df, transforms=data_transforms['valid'])\n",
    "\n",
    "    train_loader = DataLoader(train_dataset, batch_size=CFG.train_bs if not debug else 20, \n",
    "                              num_workers=4, shuffle=True, pin_memory=True, drop_last=False)\n",
    "    valid_loader = DataLoader(valid_dataset, batch_size=CFG.valid_bs if not debug else 20, \n",
    "                              num_workers=4, shuffle=False, pin_memory=True)\n",
    "    \n",
    "    return train_loader, valid_loader\n"
   ]
  },
  {
   "cell_type": "code",
   "execution_count": null,
   "id": "db61a882",
   "metadata": {
    "execution": {
     "iopub.execute_input": "2022-04-24T22:50:08.788516Z",
     "iopub.status.busy": "2022-04-24T22:50:08.78806Z",
     "iopub.status.idle": "2022-04-24T22:50:08.904115Z",
     "shell.execute_reply": "2022-04-24T22:50:08.903395Z",
     "shell.execute_reply.started": "2022-04-24T22:50:08.788478Z"
    },
    "papermill": {
     "duration": null,
     "end_time": null,
     "exception": null,
     "start_time": null,
     "status": "pending"
    },
    "tags": []
   },
   "outputs": [],
   "source": [
    "train_loader, valid_loader = prepare_loaders(fold=0, debug=True)"
   ]
  },
  {
   "cell_type": "code",
   "execution_count": null,
   "id": "bc5d046e",
   "metadata": {
    "execution": {
     "iopub.execute_input": "2022-04-24T22:50:10.064398Z",
     "iopub.status.busy": "2022-04-24T22:50:10.064114Z",
     "iopub.status.idle": "2022-04-24T22:50:10.756969Z",
     "shell.execute_reply": "2022-04-24T22:50:10.756177Z",
     "shell.execute_reply.started": "2022-04-24T22:50:10.064362Z"
    },
    "papermill": {
     "duration": null,
     "end_time": null,
     "exception": null,
     "start_time": null,
     "status": "pending"
    },
    "tags": []
   },
   "outputs": [],
   "source": [
    "imgs, msks = next(iter(train_loader))\n",
    "imgs.size(), msks.size()"
   ]
  },
  {
   "cell_type": "markdown",
   "id": "7a95e6f3",
   "metadata": {
    "papermill": {
     "duration": null,
     "end_time": null,
     "exception": null,
     "start_time": null,
     "status": "pending"
    },
    "tags": []
   },
   "source": [
    "# 可视化"
   ]
  },
  {
   "cell_type": "code",
   "execution_count": null,
   "id": "3b8deff9",
   "metadata": {
    "_kg_hide-input": true,
    "execution": {
     "iopub.execute_input": "2022-04-24T22:51:24.204832Z",
     "iopub.status.busy": "2022-04-24T22:51:24.204246Z",
     "iopub.status.idle": "2022-04-24T22:51:24.290474Z",
     "shell.execute_reply": "2022-04-24T22:51:24.289501Z",
     "shell.execute_reply.started": "2022-04-24T22:51:24.204792Z"
    },
    "papermill": {
     "duration": null,
     "end_time": null,
     "exception": null,
     "start_time": null,
     "status": "pending"
    },
    "tags": []
   },
   "outputs": [],
   "source": [
    "def plot_batch(imgs, msks, size=3):\n",
    "    plt.figure(figsize=(5*5, 5))\n",
    "    for idx in range(size):\n",
    "        plt.subplot(1, 5, idx+1)\n",
    "        img = imgs[idx,].permute((1, 2, 0)).numpy()*255.0\n",
    "        img = img.astype('uint8')\n",
    "        msk = msks[idx,].permute((1, 2, 0)).numpy()*255.0\n",
    "        show_img(img, msk)\n",
    "    plt.tight_layout()\n",
    "    plt.show()"
   ]
  },
  {
   "cell_type": "code",
   "execution_count": null,
   "id": "e4388191",
   "metadata": {
    "execution": {
     "iopub.execute_input": "2022-04-24T22:51:24.930758Z",
     "iopub.status.busy": "2022-04-24T22:51:24.930503Z",
     "iopub.status.idle": "2022-04-24T22:51:25.864771Z",
     "shell.execute_reply": "2022-04-24T22:51:25.862928Z",
     "shell.execute_reply.started": "2022-04-24T22:51:24.93073Z"
    },
    "papermill": {
     "duration": null,
     "end_time": null,
     "exception": null,
     "start_time": null,
     "status": "pending"
    },
    "tags": []
   },
   "outputs": [],
   "source": [
    "plot_batch(imgs, msks, size=5)"
   ]
  },
  {
   "cell_type": "code",
   "execution_count": null,
   "id": "6ead7af4",
   "metadata": {
    "execution": {
     "iopub.execute_input": "2022-04-24T22:40:51.968467Z",
     "iopub.status.busy": "2022-04-24T22:40:51.968157Z",
     "iopub.status.idle": "2022-04-24T22:40:52.33595Z",
     "shell.execute_reply": "2022-04-24T22:40:52.335056Z",
     "shell.execute_reply.started": "2022-04-24T22:40:51.968432Z"
    },
    "papermill": {
     "duration": null,
     "end_time": null,
     "exception": null,
     "start_time": null,
     "status": "pending"
    },
    "tags": []
   },
   "outputs": [],
   "source": [
    "import gc\n",
    "gc.collect()"
   ]
  },
  {
   "cell_type": "markdown",
   "id": "a527c2d3",
   "metadata": {
    "papermill": {
     "duration": null,
     "end_time": null,
     "exception": null,
     "start_time": null,
     "status": "pending"
    },
    "tags": []
   },
   "source": [
    "# 模型\n"
   ]
  },
  {
   "cell_type": "code",
   "execution_count": null,
   "id": "4096f665",
   "metadata": {
    "execution": {
     "iopub.execute_input": "2022-04-24T22:51:57.53202Z",
     "iopub.status.busy": "2022-04-24T22:51:57.531241Z",
     "iopub.status.idle": "2022-04-24T22:51:58.64183Z",
     "shell.execute_reply": "2022-04-24T22:51:58.64109Z",
     "shell.execute_reply.started": "2022-04-24T22:51:57.531978Z"
    },
    "papermill": {
     "duration": null,
     "end_time": null,
     "exception": null,
     "start_time": null,
     "status": "pending"
    },
    "tags": []
   },
   "outputs": [],
   "source": [
    "import segmentation_models_pytorch as smp\n",
    "\n",
    "def build_model():\n",
    "    model = smp.Unet(\n",
    "        encoder_name=CFG.backbone,      # choose encoder, e.g. mobilenet_v2 or efficientnet-b7\n",
    "        encoder_weights=\"imagenet\",     # use `imagenet` pre-trained weights for encoder initialization\n",
    "        in_channels=3,                  # model input channels (1 for gray-scale images, 3 for RGB, etc.)\n",
    "        classes=CFG.num_classes,        # model output channels (number of classes in your dataset)\n",
    "        activation=None,\n",
    "    )\n",
    "    model.to(CFG.device)\n",
    "    return model\n",
    "\n",
    "def load_model(path):\n",
    "    model = build_model()\n",
    "    model.load_state_dict(torch.load(path))\n",
    "    model.eval()\n",
    "    return model"
   ]
  },
  {
   "cell_type": "markdown",
   "id": "5232763a",
   "metadata": {
    "papermill": {
     "duration": null,
     "end_time": null,
     "exception": null,
     "start_time": null,
     "status": "pending"
    },
    "tags": []
   },
   "source": [
    "# 损失函数"
   ]
  },
  {
   "cell_type": "code",
   "execution_count": null,
   "id": "ceef8d7f",
   "metadata": {
    "execution": {
     "iopub.execute_input": "2022-04-24T22:52:19.17606Z",
     "iopub.status.busy": "2022-04-24T22:52:19.175789Z",
     "iopub.status.idle": "2022-04-24T22:52:19.261485Z",
     "shell.execute_reply": "2022-04-24T22:52:19.260634Z",
     "shell.execute_reply.started": "2022-04-24T22:52:19.17603Z"
    },
    "papermill": {
     "duration": null,
     "end_time": null,
     "exception": null,
     "start_time": null,
     "status": "pending"
    },
    "tags": []
   },
   "outputs": [],
   "source": [
    "JaccardLoss = smp.losses.JaccardLoss(mode='multilabel')\n",
    "DiceLoss    = smp.losses.DiceLoss(mode='multilabel')\n",
    "BCELoss     = smp.losses.SoftBCEWithLogitsLoss()\n",
    "LovaszLoss  = smp.losses.LovaszLoss(mode='multilabel', per_image=False)\n",
    "TverskyLoss = smp.losses.TverskyLoss(mode='multilabel', log_loss=False)\n",
    "\n",
    "def dice_coef(y_true, y_pred, thr=0.5, dim=(2,3), epsilon=0.001):\n",
    "    y_true = y_true.to(torch.float32)\n",
    "    y_pred = (y_pred>thr).to(torch.float32)\n",
    "    inter = (y_true*y_pred).sum(dim=dim)\n",
    "    den = y_true.sum(dim=dim) + y_pred.sum(dim=dim)\n",
    "    dice = ((2*inter+epsilon)/(den+epsilon)).mean(dim=(1,0))\n",
    "    return dice\n",
    "\n",
    "def iou_coef(y_true, y_pred, thr=0.5, dim=(2,3), epsilon=0.001):\n",
    "    y_true = y_true.to(torch.float32)\n",
    "    y_pred = (y_pred>thr).to(torch.float32)\n",
    "    inter = (y_true*y_pred).sum(dim=dim)\n",
    "    union = (y_true + y_pred - y_true*y_pred).sum(dim=dim)\n",
    "    iou = ((inter+epsilon)/(union+epsilon)).mean(dim=(1,0))\n",
    "    return iou\n",
    "\n",
    "def criterion(y_pred, y_true):\n",
    "    return 0.5*BCELoss(y_pred, y_true) + 0.5*TverskyLoss(y_pred, y_true)"
   ]
  },
  {
   "cell_type": "markdown",
   "id": "6f69d012",
   "metadata": {
    "papermill": {
     "duration": null,
     "end_time": null,
     "exception": null,
     "start_time": null,
     "status": "pending"
    },
    "tags": []
   },
   "source": [
    "# 训练函数"
   ]
  },
  {
   "cell_type": "code",
   "execution_count": null,
   "id": "ff53c0fd",
   "metadata": {
    "execution": {
     "iopub.execute_input": "2022-04-24T22:52:20.774302Z",
     "iopub.status.busy": "2022-04-24T22:52:20.774055Z",
     "iopub.status.idle": "2022-04-24T22:52:20.859038Z",
     "shell.execute_reply": "2022-04-24T22:52:20.858231Z",
     "shell.execute_reply.started": "2022-04-24T22:52:20.774274Z"
    },
    "papermill": {
     "duration": null,
     "end_time": null,
     "exception": null,
     "start_time": null,
     "status": "pending"
    },
    "tags": []
   },
   "outputs": [],
   "source": [
    "def train_one_epoch(model, optimizer, scheduler, dataloader, device, epoch):\n",
    "    model.train()\n",
    "    scaler = amp.GradScaler()\n",
    "    \n",
    "    dataset_size = 0\n",
    "    running_loss = 0.0\n",
    "    \n",
    "    pbar = tqdm(enumerate(dataloader), total=len(dataloader), desc='Train ')\n",
    "    for step, (images, masks) in pbar:         \n",
    "        images = images.to(device, dtype=torch.float)\n",
    "        masks  = masks.to(device, dtype=torch.float)\n",
    "        \n",
    "        batch_size = images.size(0)\n",
    "        \n",
    "        with amp.autocast(enabled=True):\n",
    "            y_pred = model(images)\n",
    "            loss   = criterion(y_pred, masks)\n",
    "            loss   = loss / CFG.n_accumulate\n",
    "            \n",
    "        scaler.scale(loss).backward()\n",
    "    \n",
    "        if (step + 1) % CFG.n_accumulate == 0:\n",
    "            scaler.step(optimizer)\n",
    "            scaler.update()\n",
    "\n",
    "            # zero the parameter gradients\n",
    "            optimizer.zero_grad()\n",
    "\n",
    "            if scheduler is not None:\n",
    "                scheduler.step()\n",
    "                \n",
    "        running_loss += (loss.item() * batch_size)\n",
    "        dataset_size += batch_size\n",
    "        \n",
    "        epoch_loss = running_loss / dataset_size\n",
    "        \n",
    "        mem = torch.cuda.memory_reserved() / 1E9 if torch.cuda.is_available() else 0\n",
    "        current_lr = optimizer.param_groups[0]['lr']\n",
    "        pbar.set_postfix(train_loss=f'{epoch_loss:0.4f}',\n",
    "                        lr=f'{current_lr:0.5f}',\n",
    "                        gpu_mem=f'{mem:0.2f} GB')\n",
    "    torch.cuda.empty_cache()\n",
    "    gc.collect()\n",
    "    \n",
    "    return epoch_loss"
   ]
  },
  {
   "cell_type": "markdown",
   "id": "1f645812",
   "metadata": {
    "papermill": {
     "duration": null,
     "end_time": null,
     "exception": null,
     "start_time": null,
     "status": "pending"
    },
    "tags": []
   },
   "source": [
    "# 验证函数"
   ]
  },
  {
   "cell_type": "code",
   "execution_count": null,
   "id": "0cd2e94d",
   "metadata": {
    "execution": {
     "iopub.execute_input": "2022-04-24T22:52:23.297042Z",
     "iopub.status.busy": "2022-04-24T22:52:23.296774Z",
     "iopub.status.idle": "2022-04-24T22:52:23.385462Z",
     "shell.execute_reply": "2022-04-24T22:52:23.384701Z",
     "shell.execute_reply.started": "2022-04-24T22:52:23.297011Z"
    },
    "papermill": {
     "duration": null,
     "end_time": null,
     "exception": null,
     "start_time": null,
     "status": "pending"
    },
    "tags": []
   },
   "outputs": [],
   "source": [
    "@torch.no_grad()\n",
    "def valid_one_epoch(model, dataloader, device, epoch):\n",
    "    model.eval()\n",
    "    \n",
    "    dataset_size = 0\n",
    "    running_loss = 0.0\n",
    "    \n",
    "    val_scores = []\n",
    "    \n",
    "    pbar = tqdm(enumerate(dataloader), total=len(dataloader), desc='Valid ')\n",
    "    for step, (images, masks) in pbar:        \n",
    "        images  = images.to(device, dtype=torch.float)\n",
    "        masks   = masks.to(device, dtype=torch.float)\n",
    "        \n",
    "        batch_size = images.size(0)\n",
    "        \n",
    "        y_pred  = model(images)\n",
    "        loss    = criterion(y_pred, masks)\n",
    "        \n",
    "        running_loss += (loss.item() * batch_size)\n",
    "        dataset_size += batch_size\n",
    "        \n",
    "        epoch_loss = running_loss / dataset_size\n",
    "        \n",
    "        y_pred = nn.Sigmoid()(y_pred)\n",
    "        val_dice = dice_coef(masks, y_pred).cpu().detach().numpy()\n",
    "        val_jaccard = iou_coef(masks, y_pred).cpu().detach().numpy()\n",
    "        val_scores.append([val_dice, val_jaccard])\n",
    "        \n",
    "        mem = torch.cuda.memory_reserved() / 1E9 if torch.cuda.is_available() else 0\n",
    "        current_lr = optimizer.param_groups[0]['lr']\n",
    "        pbar.set_postfix(valid_loss=f'{epoch_loss:0.4f}',\n",
    "                        lr=f'{current_lr:0.5f}',\n",
    "                        gpu_memory=f'{mem:0.2f} GB')\n",
    "    val_scores  = np.mean(val_scores, axis=0)\n",
    "    torch.cuda.empty_cache()\n",
    "    gc.collect()\n",
    "    \n",
    "    return epoch_loss, val_scores"
   ]
  },
  {
   "cell_type": "markdown",
   "id": "7e4f9e18",
   "metadata": {
    "papermill": {
     "duration": null,
     "end_time": null,
     "exception": null,
     "start_time": null,
     "status": "pending"
    },
    "tags": []
   },
   "source": [
    "# 运行训练"
   ]
  },
  {
   "cell_type": "code",
   "execution_count": null,
   "id": "fc5304dc",
   "metadata": {
    "execution": {
     "iopub.execute_input": "2022-04-24T22:52:24.583074Z",
     "iopub.status.busy": "2022-04-24T22:52:24.582487Z",
     "iopub.status.idle": "2022-04-24T22:52:24.671209Z",
     "shell.execute_reply": "2022-04-24T22:52:24.670399Z",
     "shell.execute_reply.started": "2022-04-24T22:52:24.583036Z"
    },
    "papermill": {
     "duration": null,
     "end_time": null,
     "exception": null,
     "start_time": null,
     "status": "pending"
    },
    "tags": []
   },
   "outputs": [],
   "source": [
    "def run_training(model, optimizer, scheduler, device, num_epochs):\n",
    "    # To automatically log gradients\n",
    "    wandb.watch(model, log_freq=100)\n",
    "    \n",
    "    if torch.cuda.is_available():\n",
    "        print(\"cuda: {}\\n\".format(torch.cuda.get_device_name()))\n",
    "    \n",
    "    start = time.time()\n",
    "    best_model_wts = copy.deepcopy(model.state_dict())\n",
    "    best_dice      = -np.inf\n",
    "    best_epoch     = -1\n",
    "    history = defaultdict(list)\n",
    "    \n",
    "    for epoch in range(1, num_epochs + 1): \n",
    "        gc.collect()\n",
    "        print(f'Epoch {epoch}/{num_epochs}', end='')\n",
    "        train_loss = train_one_epoch(model, optimizer, scheduler, \n",
    "                                           dataloader=train_loader, \n",
    "                                           device=CFG.device, epoch=epoch)\n",
    "        \n",
    "        val_loss, val_scores = valid_one_epoch(model, valid_loader, \n",
    "                                                 device=CFG.device, \n",
    "                                                 epoch=epoch)\n",
    "        val_dice, val_jaccard = val_scores\n",
    "    \n",
    "        history['Train Loss'].append(train_loss)\n",
    "        history['Valid Loss'].append(val_loss)\n",
    "        history['Valid Dice'].append(val_dice)\n",
    "        history['Valid Jaccard'].append(val_jaccard)\n",
    "        \n",
    "        # Log the metrics\n",
    "        wandb.log({\"Train Loss\": train_loss, \n",
    "                   \"Valid Loss\": val_loss,\n",
    "                   \"Valid Dice\": val_dice,\n",
    "                   \"Valid Jaccard\": val_jaccard,\n",
    "                   \"LR\":scheduler.get_last_lr()[0]})\n",
    "        \n",
    "        print(f'Valid Dice: {val_dice:0.4f} | Valid Jaccard: {val_jaccard:0.4f}')\n",
    "        \n",
    "        # deep copy the model\n",
    "        if val_dice >= best_dice:\n",
    "            print(f\"{c_}Valid Score Improved ({best_dice:0.4f} ---> {val_dice:0.4f})\")\n",
    "            best_dice    = val_dice\n",
    "            best_jaccard = val_jaccard\n",
    "            best_epoch   = epoch\n",
    "            run.summary[\"Best Dice\"]    = best_dice\n",
    "            run.summary[\"Best Jaccard\"] = best_jaccard\n",
    "            run.summary[\"Best Epoch\"]   = best_epoch\n",
    "            best_model_wts = copy.deepcopy(model.state_dict())\n",
    "            PATH = f\"best_epoch-{fold:02d}.bin\"\n",
    "            torch.save(model.state_dict(), PATH)\n",
    "            # Save a model file from the current directory\n",
    "            wandb.save(PATH)\n",
    "            print(f\"Model Saved{sr_}\")\n",
    "            \n",
    "        last_model_wts = copy.deepcopy(model.state_dict())\n",
    "        PATH = f\"last_epoch-{fold:02d}.bin\"\n",
    "        torch.save(model.state_dict(), PATH)\n",
    "            \n",
    "        print(); print()\n",
    "    \n",
    "    end = time.time()\n",
    "    time_elapsed = end - start\n",
    "    print('Training complete in {:.0f}h {:.0f}m {:.0f}s'.format(\n",
    "        time_elapsed // 3600, (time_elapsed % 3600) // 60, (time_elapsed % 3600) % 60))\n",
    "    print(\"Best Score: {:.4f}\".format(best_jaccard))\n",
    "    \n",
    "    # load best model weights\n",
    "    model.load_state_dict(best_model_wts)\n",
    "    \n",
    "    return model, history"
   ]
  },
  {
   "cell_type": "markdown",
   "id": "ab11a6e6",
   "metadata": {
    "papermill": {
     "duration": null,
     "end_time": null,
     "exception": null,
     "start_time": null,
     "status": "pending"
    },
    "tags": []
   },
   "source": [
    "# 优化"
   ]
  },
  {
   "cell_type": "code",
   "execution_count": null,
   "id": "0fc3a40a",
   "metadata": {
    "execution": {
     "iopub.execute_input": "2022-04-24T22:52:25.944862Z",
     "iopub.status.busy": "2022-04-24T22:52:25.944547Z",
     "iopub.status.idle": "2022-04-24T22:52:26.060302Z",
     "shell.execute_reply": "2022-04-24T22:52:26.0593Z",
     "shell.execute_reply.started": "2022-04-24T22:52:25.944828Z"
    },
    "papermill": {
     "duration": null,
     "end_time": null,
     "exception": null,
     "start_time": null,
     "status": "pending"
    },
    "tags": []
   },
   "outputs": [],
   "source": [
    "def fetch_scheduler(optimizer):\n",
    "    if CFG.scheduler == 'CosineAnnealingLR':\n",
    "        scheduler = lr_scheduler.CosineAnnealingLR(optimizer,T_max=CFG.T_max, \n",
    "                                                   eta_min=CFG.min_lr)\n",
    "    elif CFG.scheduler == 'CosineAnnealingWarmRestarts':\n",
    "        scheduler = lr_scheduler.CosineAnnealingWarmRestarts(optimizer,T_0=CFG.T_0, \n",
    "                                                             eta_min=CFG.min_lr)\n",
    "    elif CFG.scheduler == 'ReduceLROnPlateau':\n",
    "        scheduler = lr_scheduler.ReduceLROnPlateau(optimizer,\n",
    "                                                   mode='min',\n",
    "                                                   factor=0.1,\n",
    "                                                   patience=7,\n",
    "                                                   threshold=0.0001,\n",
    "                                                   min_lr=CFG.min_lr,)\n",
    "    elif CFG.scheduer == 'ExponentialLR':\n",
    "        scheduler = lr_scheduler.ExponentialLR(optimizer, gamma=0.85)\n",
    "    elif CFG.scheduler == None:\n",
    "        return None\n",
    "        \n",
    "    return scheduler"
   ]
  },
  {
   "cell_type": "code",
   "execution_count": null,
   "id": "d2e90ebc",
   "metadata": {
    "execution": {
     "iopub.execute_input": "2022-04-24T22:52:47.450091Z",
     "iopub.status.busy": "2022-04-24T22:52:47.449307Z",
     "iopub.status.idle": "2022-04-24T22:52:49.666182Z",
     "shell.execute_reply": "2022-04-24T22:52:49.665368Z",
     "shell.execute_reply.started": "2022-04-24T22:52:47.450045Z"
    },
    "papermill": {
     "duration": null,
     "end_time": null,
     "exception": null,
     "start_time": null,
     "status": "pending"
    },
    "tags": []
   },
   "outputs": [],
   "source": [
    "model = build_model()\n",
    "optimizer = optim.Adam(model.parameters(), lr=CFG.lr, weight_decay=CFG.wd)\n",
    "scheduler = fetch_scheduler(optimizer)"
   ]
  },
  {
   "cell_type": "markdown",
   "id": "157d7a8b",
   "metadata": {
    "papermill": {
     "duration": null,
     "end_time": null,
     "exception": null,
     "start_time": null,
     "status": "pending"
    },
    "tags": []
   },
   "source": [
    "# 训练"
   ]
  },
  {
   "cell_type": "code",
   "execution_count": null,
   "id": "7501a58b",
   "metadata": {
    "_kg_hide-output": true,
    "execution": {
     "iopub.execute_input": "2022-04-24T22:52:50.649631Z",
     "iopub.status.busy": "2022-04-24T22:52:50.648945Z"
    },
    "papermill": {
     "duration": null,
     "end_time": null,
     "exception": null,
     "start_time": null,
     "status": "pending"
    },
    "tags": []
   },
   "outputs": [],
   "source": [
    "for fold in range(1):\n",
    "    print(f'#'*15)\n",
    "    print(f'### Fold: {fold}')\n",
    "    print(f'#'*15)\n",
    "    run = wandb.init(project='uw-maddison-gi-tract', \n",
    "                     config={k:v for k, v in dict(vars(CFG)).items() if '__' not in k},\n",
    "                     anonymous=anonymous,\n",
    "                     name=f\"fold-{fold}|dim-{CFG.img_size[0]}x{CFG.img_size[1]}|model-{CFG.model_name}\",\n",
    "                     group=CFG.comment,\n",
    "                    )\n",
    "    train_loader, valid_loader = prepare_loaders(fold=fold, debug=CFG.debug)\n",
    "    model     = build_model()\n",
    "    optimizer = optim.Adam(model.parameters(), lr=CFG.lr, weight_decay=CFG.wd)\n",
    "    scheduler = fetch_scheduler(optimizer)\n",
    "    model, history = run_training(model, optimizer, scheduler,\n",
    "                                  device=CFG.device,\n",
    "                                  num_epochs=CFG.epochs)\n",
    "    run.finish()\n",
    "    display(ipd.IFrame(run.url, width=1000, height=720))"
   ]
  },
  {
   "cell_type": "markdown",
   "id": "4db85ffd",
   "metadata": {
    "papermill": {
     "duration": null,
     "end_time": null,
     "exception": null,
     "start_time": null,
     "status": "pending"
    },
    "tags": []
   },
   "source": [
    "# 预测"
   ]
  },
  {
   "cell_type": "code",
   "execution_count": null,
   "id": "ce748905",
   "metadata": {
    "papermill": {
     "duration": null,
     "end_time": null,
     "exception": null,
     "start_time": null,
     "status": "pending"
    },
    "tags": []
   },
   "outputs": [],
   "source": [
    "test_dataset = BuildDataset(df.query(\"fold==0 & empty==0\").sample(frac=1.0), label=False, \n",
    "                            transforms=data_transforms['valid'])\n",
    "test_loader  = DataLoader(test_dataset, batch_size=5, \n",
    "                          num_workers=4, shuffle=False, pin_memory=True)\n",
    "imgs = next(iter(test_loader))\n",
    "imgs = imgs.to(CFG.device, dtype=torch.float)\n",
    "\n",
    "preds = []\n",
    "for fold in range(1):\n",
    "    model = load_model(f\"best_epoch-{fold:02d}.bin\")\n",
    "    with torch.no_grad():\n",
    "        pred = model(imgs)\n",
    "        pred = (nn.Sigmoid()(pred)>0.5).double()\n",
    "    preds.append(pred)\n",
    "    \n",
    "imgs  = imgs.cpu().detach()\n",
    "preds = torch.mean(torch.stack(preds, dim=0), dim=0).cpu().detach()"
   ]
  },
  {
   "cell_type": "code",
   "execution_count": null,
   "id": "b037e629",
   "metadata": {
    "papermill": {
     "duration": null,
     "end_time": null,
     "exception": null,
     "start_time": null,
     "status": "pending"
    },
    "tags": []
   },
   "outputs": [],
   "source": [
    "plot_batch(imgs, preds, size=5)"
   ]
  },
  {
   "cell_type": "markdown",
   "id": "811898b7",
   "metadata": {
    "papermill": {
     "duration": null,
     "end_time": null,
     "exception": null,
     "start_time": null,
     "status": "pending"
    },
    "tags": []
   },
   "source": [
    "# 删除文件"
   ]
  },
  {
   "cell_type": "code",
   "execution_count": null,
   "id": "27087127",
   "metadata": {
    "papermill": {
     "duration": null,
     "end_time": null,
     "exception": null,
     "start_time": null,
     "status": "pending"
    },
    "tags": []
   },
   "outputs": [],
   "source": [
    "!rm -r ./wandb"
   ]
  }
 ],
 "metadata": {
  "kaggle": {
   "accelerator": "gpu",
   "dataSources": [
    {
     "databundleVersionId": 3495119,
     "sourceId": 27923,
     "sourceType": "competition"
    },
    {
     "datasetId": 1701116,
     "sourceId": 2786089,
     "sourceType": "datasetVersion"
    },
    {
     "datasetId": 2089184,
     "sourceId": 3521209,
     "sourceType": "datasetVersion"
    }
   ],
   "dockerImageVersionId": 30140,
   "isGpuEnabled": true,
   "isInternetEnabled": true,
   "language": "python",
   "sourceType": "notebook"
  },
  "kernelspec": {
   "display_name": "Python 3",
   "language": "python",
   "name": "python3"
  },
  "language_info": {
   "codemirror_mode": {
    "name": "ipython",
    "version": 3
   },
   "file_extension": ".py",
   "mimetype": "text/x-python",
   "name": "python",
   "nbconvert_exporter": "python",
   "pygments_lexer": "ipython3",
   "version": "3.7.10"
  },
  "papermill": {
   "default_parameters": {},
   "duration": 62.304256,
   "end_time": "2024-12-19T07:36:42.833270",
   "environment_variables": {},
   "exception": true,
   "input_path": "__notebook__.ipynb",
   "output_path": "__notebook__.ipynb",
   "parameters": {},
   "start_time": "2024-12-19T07:35:40.529014",
   "version": "2.3.3"
  }
 },
 "nbformat": 4,
 "nbformat_minor": 5
}
